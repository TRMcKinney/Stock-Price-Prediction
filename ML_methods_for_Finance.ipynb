{
 "cells": [
  {
   "cell_type": "code",
   "execution_count": 7,
   "metadata": {},
   "outputs": [],
   "source": [
    "# import libraries\n",
    "import kagglehub\n",
    "import pandas as pd\n",
    "import matplotlib.pyplot as plt\n"
   ]
  },
  {
   "cell_type": "code",
   "execution_count": 8,
   "metadata": {},
   "outputs": [
    {
     "name": "stdout",
     "output_type": "stream",
     "text": [
      "Path to dataset files: C:\\Users\\el1trm\\.cache\\kagglehub\\datasets\\arashnic\\time-series-forecasting-with-yahoo-stock-price\\versions\\3\n",
      "         Date         High          Low         Open        Close  \\\n",
      "0  2015-11-23  2095.610107  2081.389893  2089.409912  2086.590088   \n",
      "1  2015-11-24  2094.120117  2070.290039  2084.419922  2089.139893   \n",
      "2  2015-11-25  2093.000000  2086.300049  2089.300049  2088.870117   \n",
      "3  2015-11-26  2093.000000  2086.300049  2089.300049  2088.870117   \n",
      "4  2015-11-27  2093.290039  2084.129883  2088.820068  2090.110107   \n",
      "\n",
      "         Volume    Adj Close  \n",
      "0  3.587980e+09  2086.590088  \n",
      "1  3.884930e+09  2089.139893  \n",
      "2  2.852940e+09  2088.870117  \n",
      "3  2.852940e+09  2088.870117  \n",
      "4  1.466840e+09  2090.110107  \n"
     ]
    }
   ],
   "source": [
    "# Download latest version of yahoo stock price dataset from Kaggle\n",
    "path = kagglehub.dataset_download(\"arashnic/time-series-forecasting-with-yahoo-stock-price\")\n",
    "print(\"Path to dataset files:\", path)\n",
    "yahoo_stock_dataset = pd.read_csv(path + \"/yahoo_stock.csv\")\n",
    "print(yahoo_stock_dataset.head())"
   ]
  },
  {
   "cell_type": "code",
   "execution_count": null,
   "metadata": {},
   "outputs": [],
   "source": [
    "yahoo_stock_dataset['Adj Close'].plot()"
   ]
  }
 ],
 "metadata": {
  "kernelspec": {
   "display_name": "Python 3",
   "language": "python",
   "name": "python3"
  },
  "language_info": {
   "codemirror_mode": {
    "name": "ipython",
    "version": 3
   },
   "file_extension": ".py",
   "mimetype": "text/x-python",
   "name": "python",
   "nbconvert_exporter": "python",
   "pygments_lexer": "ipython3",
   "version": "3.11.9"
  }
 },
 "nbformat": 4,
 "nbformat_minor": 2
}
